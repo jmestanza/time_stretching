{
  "nbformat": 4,
  "nbformat_minor": 0,
  "metadata": {
    "colab": {
      "name": "speed_up.ipynb",
      "provenance": [],
      "authorship_tag": "ABX9TyONq+eTgycx1udryKUChrRU",
      "include_colab_link": true
    },
    "kernelspec": {
      "name": "python3",
      "display_name": "Python 3"
    }
  },
  "cells": [
    {
      "cell_type": "markdown",
      "metadata": {
        "id": "view-in-github",
        "colab_type": "text"
      },
      "source": [
        "<a href=\"https://colab.research.google.com/github/jmestanza/time_stretching/blob/master/speed_up.ipynb\" target=\"_parent\"><img src=\"https://colab.research.google.com/assets/colab-badge.svg\" alt=\"Open In Colab\"/></a>"
      ]
    },
    {
      "cell_type": "code",
      "metadata": {
        "id": "x96uZBuzZoLh",
        "colab_type": "code",
        "colab": {}
      },
      "source": [
        "%cd /content\n",
        "from IPython.display import clear_output\n",
        "#!git clone https://github.com/jmestanza/time_stretching.git\n",
        "\n",
        "#imports\n",
        "!pip install webrtcvad\n",
        "import webrtcvad\n",
        "#!pip install librosa\n",
        "!pip install --upgrade librosa\n",
        "import librosa \n",
        "import scipy\n",
        "from IPython.display import Audio"
      ],
      "execution_count": 0,
      "outputs": []
    },
    {
      "cell_type": "code",
      "metadata": {
        "id": "NfK1nx46iNpv",
        "colab_type": "code",
        "colab": {}
      },
      "source": [
        "#local modules\n",
        "!wget https://raw.githubusercontent.com/jmestanza/time_stretching/master/LPC%2C%20PSOLA%20and%20Pitch%20detection%20speed%20up/detect_pitch.py\n",
        "!wget https://raw.githubusercontent.com/jmestanza/time_stretching/master/LPC%2C%20PSOLA%20and%20Pitch%20detection%20speed%20up/modified_psola.py\n",
        "\n",
        "from modified_psola import modified_psola\n",
        "from detect_pitch import get_fundamental_frequency\n",
        "\n",
        "#audios\n",
        "!wget \"https://raw.githubusercontent.com/jmestanza/time_stretching/master/LPC%2C%20PSOLA%20and%20Pitch%20detection%20speed%20up/input/ahh_without_silences_8k.wav\"\n",
        "!wget \"https://raw.githubusercontent.com/jmestanza/time_stretching/master/LPC%2C%20PSOLA%20and%20Pitch%20detection%20speed%20up/input/ahh_without_silences_8k_norm.wav\"\n",
        "\n",
        "clear_output()"
      ],
      "execution_count": 0,
      "outputs": []
    },
    {
      "cell_type": "code",
      "metadata": {
        "id": "ai0vPrS0oMTs",
        "colab_type": "code",
        "colab": {
          "base_uri": "https://localhost:8080/",
          "height": 92
        },
        "outputId": "ba006c6d-db5f-455f-a244-061e1455dbbe"
      },
      "source": [
        "fs = 8000\n",
        "\n",
        "#os.chdir(\"/content/time_stretching/code/input/\")\n",
        "\n",
        "audio_file = \"/content/ahh_without_silences_8k_norm.wav\"\n",
        "ahh, _ = librosa.load(audio_file, sr=fs)\n",
        "\n",
        "\n",
        "# necesito al menos dos periodos de la señal\n",
        "#200 = (50+25)+50+(50+25)\n",
        "#L = 50 # muestras de la ventana\n",
        "#K = L//2\n",
        "# tamaño total por observacion\n",
        "# total = 4*L\n",
        "\n",
        "#quiero tener 20 milisegundos de señal\n",
        "T = 20*1e-3\n",
        "samples = int(T * fs) \n",
        "L = samples//4\n",
        "K = L\n",
        "\n",
        "a = librosa.lpc(ahh, 12)\n",
        "e_ = scipy.signal.lfilter(a,[1], ahh) # obtenemos la señal error a traves del filtrado\n",
        "\n",
        "f0,sample_f0 = get_fundamental_frequency(e_,K,L,fs)\n",
        "\n",
        "print(\"Frecuencia fundamental : \",f0,\" \", sample_f0)\n",
        "speed = 1.0\n",
        "error_audio = modified_psola(e_,sample_f0, speed)\n",
        "\n",
        "new_audio = scipy.signal.lfilter([1],a, error_audio)\n",
        "\n",
        "#os.chdir(\"../output\")\n",
        "#librosa.output.write_wav(\"e_\"+audio_file+f\"_speed_x{speed}.wav\", new_audio, fs)\n",
        "\n",
        "Audio(data=new_audio,rate=fs)\n",
        "\n"
      ],
      "execution_count": 15,
      "outputs": [
        {
          "output_type": "stream",
          "text": [
            "Frecuencia fundamental :  136.7477474849691   59\n"
          ],
          "name": "stdout"
        },
        {
          "output_type": "execute_result",
          "data": {
            "text/html": [
              "\n",
              "                <audio controls=\"controls\" >\n",
              "                    <source src=\"data:audio/wav;base64,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\" type=\"audio/wav\" />\n",
              "                    Your browser does not support the audio element.\n",
              "                </audio>\n",
              "              "
            ],
            "text/plain": [
              "<IPython.lib.display.Audio object>"
            ]
          },
          "metadata": {
            "tags": []
          },
          "execution_count": 15
        }
      ]
    }
  ]
}