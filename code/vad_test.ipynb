{
  "nbformat": 4,
  "nbformat_minor": 0,
  "metadata": {
    "colab": {
      "name": "vad_test.ipynb",
      "provenance": [],
      "authorship_tag": "ABX9TyMuuq+pvbQvyD2TeOVB60+B",
      "include_colab_link": true
    },
    "kernelspec": {
      "name": "python3",
      "display_name": "Python 3"
    }
  },
  "cells": [
    {
      "cell_type": "markdown",
      "metadata": {
        "id": "view-in-github",
        "colab_type": "text"
      },
      "source": [
        "<a href=\"https://colab.research.google.com/github/jmestanza/time_stretching/blob/master/code/vad_test.ipynb\" target=\"_parent\"><img src=\"https://colab.research.google.com/assets/colab-badge.svg\" alt=\"Open In Colab\"/></a>"
      ]
    },
    {
      "cell_type": "code",
      "metadata": {
        "id": "x96uZBuzZoLh",
        "colab_type": "code",
        "colab": {
          "base_uri": "https://localhost:8080/",
          "height": 322
        },
        "outputId": "e445de29-e8e6-48e4-960f-042f18d46056"
      },
      "source": [
        "%cd /content\n",
        "from IPython.display import clear_output\n",
        "#!git clone https://github.com/jmestanza/time_stretching.git\n",
        "\n",
        "#imports\n",
        "!pip install webrtcvad\n",
        "import webrtcvad\n",
        "#!pip install librosa\n",
        "!pip install --upgrade librosa\n",
        "import librosa \n",
        "import scipy\n",
        "from IPython.display import Audio"
      ],
      "execution_count": 54,
      "outputs": [
        {
          "output_type": "stream",
          "text": [
            "/content\n",
            "Requirement already satisfied: webrtcvad in /usr/local/lib/python3.6/dist-packages (2.0.10)\n",
            "Requirement already up-to-date: librosa in /usr/local/lib/python3.6/dist-packages (0.7.2)\n",
            "Requirement already satisfied, skipping upgrade: numba>=0.43.0 in /usr/local/lib/python3.6/dist-packages (from librosa) (0.48.0)\n",
            "Requirement already satisfied, skipping upgrade: numpy>=1.15.0 in /usr/local/lib/python3.6/dist-packages (from librosa) (1.18.4)\n",
            "Requirement already satisfied, skipping upgrade: resampy>=0.2.2 in /usr/local/lib/python3.6/dist-packages (from librosa) (0.2.2)\n",
            "Requirement already satisfied, skipping upgrade: scipy>=1.0.0 in /usr/local/lib/python3.6/dist-packages (from librosa) (1.4.1)\n",
            "Requirement already satisfied, skipping upgrade: joblib>=0.12 in /usr/local/lib/python3.6/dist-packages (from librosa) (0.15.1)\n",
            "Requirement already satisfied, skipping upgrade: six>=1.3 in /usr/local/lib/python3.6/dist-packages (from librosa) (1.12.0)\n",
            "Requirement already satisfied, skipping upgrade: soundfile>=0.9.0 in /usr/local/lib/python3.6/dist-packages (from librosa) (0.10.3.post1)\n",
            "Requirement already satisfied, skipping upgrade: decorator>=3.0.0 in /usr/local/lib/python3.6/dist-packages (from librosa) (4.4.2)\n",
            "Requirement already satisfied, skipping upgrade: scikit-learn!=0.19.0,>=0.14.0 in /usr/local/lib/python3.6/dist-packages (from librosa) (0.22.2.post1)\n",
            "Requirement already satisfied, skipping upgrade: audioread>=2.0.0 in /usr/local/lib/python3.6/dist-packages (from librosa) (2.1.8)\n",
            "Requirement already satisfied, skipping upgrade: llvmlite<0.32.0,>=0.31.0dev0 in /usr/local/lib/python3.6/dist-packages (from numba>=0.43.0->librosa) (0.31.0)\n",
            "Requirement already satisfied, skipping upgrade: setuptools in /usr/local/lib/python3.6/dist-packages (from numba>=0.43.0->librosa) (46.3.0)\n",
            "Requirement already satisfied, skipping upgrade: cffi>=1.0 in /usr/local/lib/python3.6/dist-packages (from soundfile>=0.9.0->librosa) (1.14.0)\n",
            "Requirement already satisfied, skipping upgrade: pycparser in /usr/local/lib/python3.6/dist-packages (from cffi>=1.0->soundfile>=0.9.0->librosa) (2.20)\n"
          ],
          "name": "stdout"
        }
      ]
    },
    {
      "cell_type": "code",
      "metadata": {
        "id": "NfK1nx46iNpv",
        "colab_type": "code",
        "colab": {}
      },
      "source": [
        "#local modules\n",
        "!wget https://raw.githubusercontent.com/jmestanza/time_stretching/master/LPC%2C%20PSOLA%20and%20Pitch%20detection%20speed%20up/detect_pitch.py\n",
        "!wget https://raw.githubusercontent.com/jmestanza/time_stretching/master/LPC%2C%20PSOLA%20and%20Pitch%20detection%20speed%20up/modified_psola.py\n",
        "\n",
        "from modified_psola import modified_psola\n",
        "from detect_pitch import get_fundamental_frequency\n",
        "\n",
        "#audios\n",
        "!wget \"https://raw.githubusercontent.com/jmestanza/time_stretching/master/LPC%2C%20PSOLA%20and%20Pitch%20detection%20speed%20up/input/ahh_without_silences_8k.wav\"\n",
        "!wget \"https://raw.githubusercontent.com/jmestanza/time_stretching/master/LPC%2C%20PSOLA%20and%20Pitch%20detection%20speed%20up/input/ahh_without_silences_8k_norm.wav\"\n",
        "\n",
        "clear_output()"
      ],
      "execution_count": 0,
      "outputs": []
    },
    {
      "cell_type": "code",
      "metadata": {
        "id": "4rUhQewUo-eE",
        "colab_type": "code",
        "colab": {}
      },
      "source": [
        "import numpy as np"
      ],
      "execution_count": 0,
      "outputs": []
    },
    {
      "cell_type": "code",
      "metadata": {
        "id": "pZTz-TbPpyWY",
        "colab_type": "code",
        "colab": {}
      },
      "source": [
        "import sys\n",
        "import array\n",
        "import struct\n",
        "import wave\n",
        "\n",
        "def convert(fin, fout, chunk_size = 1024 * 1024):\n",
        "    chunk_size *= 4    # convert from samples to bytes\n",
        "\n",
        "    waveout = wave.open(fout, \"wb\")\n",
        "    waveout.setparams((1, 2, 44100, 0, \"NONE\", \"\"))\n",
        "\n",
        "    while True:\n",
        "        raw_floats = fin.read(chunk_size)\n",
        "        if raw_floats == \"\":\n",
        "            return\n",
        "        floats = array.array('f', raw_floats)\n",
        "        samples = [sample * 32767\n",
        "                   for sample in floats]\n",
        "        raw_ints = struct.pack(\"<%dh\" % len(samples), *samples)\n",
        "        waveout.writeframes(raw_ints)\n",
        "\n",
        "#convert(open(sys.argv[1], \"rb\"), open(sys.argv[2], \"wb\"))"
      ],
      "execution_count": 0,
      "outputs": []
    },
    {
      "cell_type": "code",
      "metadata": {
        "id": "_F1WUKoiG_42",
        "colab_type": "code",
        "colab": {}
      },
      "source": [
        "#https://github.com/mgeier/python-audio/blob/master/audio-files/utility.py\n",
        "def float2pcm(sig, dtype='int16'):\n",
        "    \"\"\"Convert floating point signal with a range from -1 to 1 to PCM.\n",
        "    Any signal values outside the interval [-1.0, 1.0) are clipped.\n",
        "    No dithering is used.\n",
        "    Note that there are different possibilities for scaling floating\n",
        "    point numbers to PCM numbers, this function implements just one of\n",
        "    them.  For an overview of alternatives see\n",
        "    http://blog.bjornroche.com/2009/12/int-float-int-its-jungle-out-there.html\n",
        "    Parameters\n",
        "    ----------\n",
        "    sig : array_like\n",
        "        Input array, must have floating point type.\n",
        "    dtype : data type, optional\n",
        "        Desired (integer) data type.\n",
        "    Returns\n",
        "    -------\n",
        "    numpy.ndarray\n",
        "        Integer data, scaled and clipped to the range of the given\n",
        "        *dtype*.\n",
        "    See Also\n",
        "    --------\n",
        "    pcm2float, dtype\n",
        "    \"\"\"\n",
        "    sig = np.asarray(sig)\n",
        "    if sig.dtype.kind != 'f':\n",
        "        raise TypeError(\"'sig' must be a float array\")\n",
        "    dtype = np.dtype(dtype)\n",
        "    if dtype.kind not in 'iu':\n",
        "        raise TypeError(\"'dtype' must be an integer type\")\n",
        "\n",
        "    i = np.iinfo(dtype)\n",
        "    abs_max = 2 ** (i.bits - 1)\n",
        "    offset = i.min + abs_max\n",
        "    return (sig * abs_max + offset).clip(i.min, i.max).astype(dtype)\n",
        "\n",
        "\n",
        "def pcm2float(sig, dtype='float64'):\n",
        "    \"\"\"Convert PCM signal to floating point with a range from -1 to 1.\n",
        "    Use dtype='float32' for single precision.\n",
        "    Parameters\n",
        "    ----------\n",
        "    sig : array_like\n",
        "        Input array, must have integral type.\n",
        "    dtype : data type, optional\n",
        "        Desired (floating point) data type.\n",
        "    Returns\n",
        "    -------\n",
        "    numpy.ndarray\n",
        "        Normalized floating point data.\n",
        "    See Also\n",
        "    --------\n",
        "    float2pcm, dtype\n",
        "    \"\"\"\n",
        "    sig = np.asarray(sig)\n",
        "    if sig.dtype.kind not in 'iu':\n",
        "        raise TypeError(\"'sig' must be an array of integers\")\n",
        "    dtype = np.dtype(dtype)\n",
        "    if dtype.kind != 'f':\n",
        "        raise TypeError(\"'dtype' must be a floating point type\")\n",
        "\n",
        "    i = np.iinfo(sig.dtype)\n",
        "    abs_max = 2 ** (i.bits - 1)\n",
        "    offset = i.min + abs_max\n",
        "    return (sig.astype(dtype) - offset) / abs_max\n"
      ],
      "execution_count": 0,
      "outputs": []
    },
    {
      "cell_type": "code",
      "metadata": {
        "id": "ai0vPrS0oMTs",
        "colab_type": "code",
        "colab": {
          "base_uri": "https://localhost:8080/",
          "height": 92
        },
        "outputId": "41c5c0a3-47d3-4c77-d78f-e95fabc22ea5"
      },
      "source": [
        "fs = 8000\n",
        "\n",
        "#os.chdir(\"/content/time_stretching/code/input/\")\n",
        "\n",
        "audio_file = \"/content/ahh_without_silences_8k_norm.wav\"\n",
        "ahh, _ = librosa.load(audio_file, sr=fs, mono=True)\n",
        "pcm = float2pcm(ahh)\n",
        "\n",
        "\n",
        "# necesito al menos dos periodos de la señal\n",
        "#200 = (50+25)+50+(50+25)\n",
        "#L = 50 # muestras de la ventana\n",
        "#K = L//2\n",
        "# tamaño total por observacion\n",
        "# total = 4*L\n",
        "\n",
        "#quiero tener 20 milisegundos de señal\n",
        "T = 20*1e-3\n",
        "samples = int(T * fs) \n",
        "L = samples//4\n",
        "K = L\n",
        "\n",
        "\n",
        "print(pcm[50])\n",
        "Audio(data=pcm, rate=fs)"
      ],
      "execution_count": 228,
      "outputs": [
        {
          "output_type": "stream",
          "text": [
            "1401\n"
          ],
          "name": "stdout"
        },
        {
          "output_type": "execute_result",
          "data": {
            "text/html": [
              "\n",
              "                <audio controls=\"controls\" >\n",
              "                    <source src=\"data:audio/wav;base64,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\" type=\"audio/wav\" />\n",
              "                    Your browser does not support the audio element.\n",
              "                </audio>\n",
              "              "
            ],
            "text/plain": [
              "<IPython.lib.display.Audio object>"
            ]
          },
          "metadata": {
            "tags": []
          },
          "execution_count": 228
        }
      ]
    },
    {
      "cell_type": "code",
      "metadata": {
        "id": "Bt_fy8MnlUUd",
        "colab_type": "code",
        "colab": {}
      },
      "source": [
        "import collections\n",
        "import contextlib\n",
        "import sys\n",
        "import wave\n",
        "\n",
        "def read_wave(path):\n",
        "    \"\"\"Reads a .wav file.\n",
        "    Takes the path, and returns (PCM audio data, sample rate).\n",
        "    \"\"\"\n",
        "    with contextlib.closing(wave.open(path, 'rb')) as wf:\n",
        "        num_channels = wf.getnchannels()\n",
        "        assert num_channels == 1\n",
        "        sample_width = wf.getsampwidth()\n",
        "        assert sample_width == 2\n",
        "        sample_rate = wf.getframerate()\n",
        "        assert sample_rate in (8000, 16000, 32000, 48000)\n",
        "        pcm_data = wf.readframes(wf.getnframes())\n",
        "        return pcm_data, sample_rate\n",
        "\n",
        "\n",
        "def write_wave(path, audio, sample_rate):\n",
        "    \"\"\"Writes a .wav file.\n",
        "    Takes path, PCM audio data, and sample rate.\n",
        "    \"\"\"\n",
        "    with contextlib.closing(wave.open(path, 'wb')) as wf:\n",
        "        wf.setnchannels(1)\n",
        "        wf.setsampwidth(2)\n",
        "        wf.setframerate(sample_rate)\n",
        "        wf.writeframes(audio)\n",
        "\n",
        "\n",
        "class Frame(object):\n",
        "    \"\"\"Represents a \"frame\" of audio data.\"\"\"\n",
        "    def __init__(self, bytes, timestamp, duration):\n",
        "        self.bytes = bytes\n",
        "        self.timestamp = timestamp\n",
        "        self.duration = duration\n",
        "\n",
        "\n",
        "def frame_generator(frame_duration_ms, audio, sample_rate):\n",
        "    \"\"\"Generates audio frames from PCM audio data.\n",
        "    Takes the desired frame duration in milliseconds, the PCM data, and\n",
        "    the sample rate.\n",
        "    Yields Frames of the requested duration.\n",
        "    \"\"\"\n",
        "    n = int(sample_rate * (frame_duration_ms / 1000.0) * 2)\n",
        "    offset = 0\n",
        "    timestamp = 0.0\n",
        "    duration = (float(n) / sample_rate) / 2.0\n",
        "    while offset + n < len(audio):\n",
        "        yield Frame(audio[offset:offset + n], timestamp, duration)\n",
        "        timestamp += duration\n",
        "        offset += n\n",
        "\n",
        "\n",
        "def vad_collector(sample_rate, frame_duration_ms,\n",
        "                  padding_duration_ms, vad, frames):\n",
        "    \"\"\"Filters out non-voiced audio frames.\n",
        "    Given a webrtcvad.Vad and a source of audio frames, yields only\n",
        "    the voiced audio.\n",
        "    Uses a padded, sliding window algorithm over the audio frames.\n",
        "    When more than 90% of the frames in the window are voiced (as\n",
        "    reported by the VAD), the collector triggers and begins yielding\n",
        "    audio frames. Then the collector waits until 90% of the frames in\n",
        "    the window are unvoiced to detrigger.\n",
        "    The window is padded at the front and back to provide a small\n",
        "    amount of silence or the beginnings/endings of speech around the\n",
        "    voiced frames.\n",
        "    Arguments:\n",
        "    sample_rate - The audio sample rate, in Hz.\n",
        "    frame_duration_ms - The frame duration in milliseconds.\n",
        "    padding_duration_ms - The amount to pad the window, in milliseconds.\n",
        "    vad - An instance of webrtcvad.Vad.\n",
        "    frames - a source of audio frames (sequence or generator).\n",
        "    Returns: A generator that yields PCM audio data.\n",
        "    \"\"\"\n",
        "    num_padding_frames = int(padding_duration_ms / frame_duration_ms)\n",
        "    # We use a deque for our sliding window/ring buffer.\n",
        "    ring_buffer = collections.deque(maxlen=num_padding_frames)\n",
        "    # We have two states: TRIGGERED and NOTTRIGGERED. We start in the\n",
        "    # NOTTRIGGERED state.\n",
        "    triggered = False\n",
        "\n",
        "    voiced_frames = []\n",
        "    for frame in frames:\n",
        "        is_speech = vad.is_speech(frame.bytes, sample_rate)\n",
        "\n",
        "        sys.stdout.write('1' if is_speech else '0')\n",
        "        if not triggered:\n",
        "            ring_buffer.append((frame, is_speech))\n",
        "            num_voiced = len([f for f, speech in ring_buffer if speech])\n",
        "            # If we're NOTTRIGGERED and more than 90% of the frames in\n",
        "            # the ring buffer are voiced frames, then enter the\n",
        "            # TRIGGERED state.\n",
        "            if num_voiced > 0.9 * ring_buffer.maxlen:\n",
        "                triggered = True\n",
        "                sys.stdout.write('+(%s)' % (ring_buffer[0][0].timestamp,))\n",
        "                # We want to yield all the audio we see from now until\n",
        "                # we are NOTTRIGGERED, but we have to start with the\n",
        "                # audio that's already in the ring buffer.\n",
        "                for f, s in ring_buffer:\n",
        "                    voiced_frames.append(f)\n",
        "                ring_buffer.clear()\n",
        "        else:\n",
        "            # We're in the TRIGGERED state, so collect the audio data\n",
        "            # and add it to the ring buffer.\n",
        "            voiced_frames.append(frame)\n",
        "            ring_buffer.append((frame, is_speech))\n",
        "            num_unvoiced = len([f for f, speech in ring_buffer if not speech])\n",
        "            # If more than 90% of the frames in the ring buffer are\n",
        "            # unvoiced, then enter NOTTRIGGERED and yield whatever\n",
        "            # audio we've collected.\n",
        "            if num_unvoiced > 0.9 * ring_buffer.maxlen:\n",
        "                sys.stdout.write('-(%s)' % (frame.timestamp + frame.duration))\n",
        "                triggered = False\n",
        "                yield b''.join([f.bytes for f in voiced_frames])\n",
        "                ring_buffer.clear()\n",
        "                voiced_frames = []\n",
        "    if triggered:\n",
        "        sys.stdout.write('-(%s)' % (frame.timestamp + frame.duration))\n",
        "    sys.stdout.write('\\n')\n",
        "    # If we have any leftover voiced audio when we run out of input,\n",
        "    # yield it.\n",
        "    if voiced_frames:\n",
        "        yield b''.join([f.bytes for f in voiced_frames])\n",
        "\n",
        "\n"
      ],
      "execution_count": 0,
      "outputs": []
    },
    {
      "cell_type": "code",
      "metadata": {
        "id": "3KAn5khIkf-H",
        "colab_type": "code",
        "colab": {
          "base_uri": "https://localhost:8080/",
          "height": 75
        },
        "outputId": "03dd863e-3f7c-43b8-e212-371322bf2bac"
      },
      "source": [
        "#vad \n",
        "\n",
        "vad = webrtcvad.Vad()\n",
        "\n",
        "#divido el audio en frames de 20 milisegundos\n",
        "frames = frame_generator(20, pcm, fs)\n",
        "frames = list(frames)\n",
        "\n",
        "#una lista para guardar los frames sonoros, otra para guardar los no-sonoros, \n",
        "#e is_frame_speech para saber si el frame original es sonoro o no (True=sonoro) \n",
        "speech = list()\n",
        "not_speech = list()\n",
        "is_frame_speech = list()\n",
        "\n",
        "for frame in frames:\n",
        "  if vad.is_speech(frame.bytes, fs):     #si el frame que analizo es sonoro\n",
        "    speech.append(frame.bytes)                    #lo guardo en la lista correspondiente y actualizo el indice\n",
        "    is_frame_speech.append(True)\n",
        "  else:                                     #si el frame que analicé no era sonoro\n",
        "    not_speech.append(frame.bytes)                #lo guardo en lista de no-sonoros\n",
        "    is_frame_speech.append(False)\n",
        "\n",
        "\n",
        "audio = list()\n",
        "#verifico que no hice algo mal recomponiendo la señal\n",
        "for is_speech in is_frame_speech:\n",
        "  if is_speech == True:   #si el frame es sonoro\n",
        "    if(speech):\n",
        "      audio.append(speech[0].copy())\n",
        "      speech.pop(0)\n",
        "  else:\n",
        "    if(not_speech):\n",
        "      audio.append(not_speech[0].copy())\n",
        "      not_speech.pop(0)\n",
        "\n",
        "final = list()\n",
        "for aud in audio:\n",
        "  final.extend(aud)\n",
        "\n",
        "Audio(data=final, rate=fs)"
      ],
      "execution_count": 245,
      "outputs": [
        {
          "output_type": "execute_result",
          "data": {
            "text/html": [
              "\n",
              "                <audio controls=\"controls\" >\n",
              "                    <source src=\"data:audio/wav;base64,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\" type=\"audio/wav\" />\n",
              "                    Your browser does not support the audio element.\n",
              "                </audio>\n",
              "              "
            ],
            "text/plain": [
              "<IPython.lib.display.Audio object>"
            ]
          },
          "metadata": {
            "tags": []
          },
          "execution_count": 245
        }
      ]
    },
    {
      "cell_type": "code",
      "metadata": {
        "id": "vVHaErKAsNV0",
        "colab_type": "code",
        "colab": {}
      },
      "source": [
        "vad.is_speech(frames[1], fs)"
      ],
      "execution_count": 0,
      "outputs": []
    },
    {
      "cell_type": "code",
      "metadata": {
        "id": "V4E52lmRrK6P",
        "colab_type": "code",
        "colab": {}
      },
      "source": [
        "for i, segment in enumerate(segments):\n",
        "  Audio(data=segment, rate=fs)"
      ],
      "execution_count": 0,
      "outputs": []
    },
    {
      "cell_type": "code",
      "metadata": {
        "id": "5389689ikMlJ",
        "colab_type": "code",
        "colab": {}
      },
      "source": [
        "a = librosa.lpc(ahh, 12)\n",
        "e_ = scipy.signal.lfilter(a,[1], ahh) # obtenemos la señal error a traves del filtrado\n",
        "\n",
        "f0,sample_f0 = get_fundamental_frequency(e_,K,L,fs)\n",
        "\n",
        "print(\"Frecuencia fundamental : \",f0,\" \", sample_f0)\n",
        "speed = 1.0\n",
        "error_audio = modified_psola(e_,sample_f0, speed)\n",
        "\n",
        "new_audio = scipy.signal.lfilter([1],a, error_audio)\n",
        "\n",
        "#os.chdir(\"../output\")\n",
        "#librosa.output.write_wav(\"e_\"+audio_file+f\"_speed_x{speed}.wav\", new_audio, fs)\n",
        "\n",
        "Audio(data=new_audio,rate=fs)\n",
        "\n"
      ],
      "execution_count": 0,
      "outputs": []
    },
    {
      "cell_type": "code",
      "metadata": {
        "id": "O4r5W66UUkie",
        "colab_type": "code",
        "colab": {
          "base_uri": "https://localhost:8080/",
          "height": 50
        },
        "outputId": "08b056ad-5e02-404b-9c5e-e8e35ccddeee"
      },
      "source": [
        "a = [0, 2, 3, 2]\n",
        "b = [[7],[8]]\n",
        "a.append(b[0].copy())\n",
        "b.pop(0)\n",
        "print(b)\n",
        "a\n"
      ],
      "execution_count": 244,
      "outputs": [
        {
          "output_type": "stream",
          "text": [
            "[[8]]\n"
          ],
          "name": "stdout"
        },
        {
          "output_type": "execute_result",
          "data": {
            "text/plain": [
              "[0, 2, 3, 2, [7]]"
            ]
          },
          "metadata": {
            "tags": []
          },
          "execution_count": 244
        }
      ]
    }
  ]
}